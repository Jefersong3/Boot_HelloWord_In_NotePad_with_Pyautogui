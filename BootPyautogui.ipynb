{
 "cells": [
  {
   "cell_type": "code",
   "execution_count": 2,
   "id": "6b24e2f2",
   "metadata": {},
   "outputs": [],
   "source": [
    "import pyautogui\n",
    "\n",
    "## Hello Word no Notepad com Pyautogui\n",
    "\n",
    "## Abrir Aplicação\n",
    "## Escrever Texto\n",
    "## Fechar Aplicação\n",
    "\n",
    "pyautogui.PAUSE = 3\n",
    "\n",
    "## Abrir Aplicação\n",
    "pyautogui.press(\"win\")\n",
    "pyautogui.write(\"Bloco de Notas\")\n",
    "pyautogui.press(\"enter\")\n",
    "pyautogui.write(\"Hello Word\")\n",
    "\n",
    "## Fechar Aplicação\n",
    "pyautogui.click(x=1152, y=212)\n",
    "pyautogui.click(x=695, y=370)"
   ]
  },
  {
   "cell_type": "code",
   "execution_count": 3,
   "id": "f1e06419",
   "metadata": {},
   "outputs": [
    {
     "data": {
      "text/plain": [
       "Point(x=502, y=448)"
      ]
     },
     "execution_count": 3,
     "metadata": {},
     "output_type": "execute_result"
    }
   ],
   "source": [
    "import time\n",
    "\n",
    "## Capturar Posição do Mouse\n",
    "\n",
    "time.sleep(3)\n",
    "\n",
    "pyautogui.position()"
   ]
  },
  {
   "cell_type": "code",
   "execution_count": null,
   "id": "766e8787",
   "metadata": {},
   "outputs": [],
   "source": [
    "## Reproduzir Spotify com Pyautogui\n",
    "\n",
    "## Abrindo a aplicação\n",
    "pyautogui.press(\"win\")\n",
    "pyautogui.write(\"Spotify\")\n",
    "pyautogui.press(\"enter\")\n",
    "\n",
    "## Apertando play na musica\n",
    "pyautogui.click(x=683, y=671)"
   ]
  }
 ],
 "metadata": {
  "kernelspec": {
   "display_name": "Python 3 (ipykernel)",
   "language": "python",
   "name": "python3"
  },
  "language_info": {
   "codemirror_mode": {
    "name": "ipython",
    "version": 3
   },
   "file_extension": ".py",
   "mimetype": "text/x-python",
   "name": "python",
   "nbconvert_exporter": "python",
   "pygments_lexer": "ipython3",
   "version": "3.9.7"
  }
 },
 "nbformat": 4,
 "nbformat_minor": 5
}
